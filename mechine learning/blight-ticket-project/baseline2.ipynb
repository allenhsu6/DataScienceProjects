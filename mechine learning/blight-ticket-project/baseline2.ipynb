{
 "cells": [
  {
   "cell_type": "code",
   "execution_count": 2,
   "id": "eb8c92cf",
   "metadata": {},
   "outputs": [],
   "source": [
    "import pandas as pd\n",
    "import numpy as np\n",
    "import re"
   ]
  },
  {
   "cell_type": "code",
   "execution_count": null,
   "id": "b814f616",
   "metadata": {},
   "outputs": [],
   "source": [
    "#Reading the files\n",
    "#set the parameter engine = python for reading train file\n",
    "#and for the testing file, submit it in without mentioning 'readonly/',  then only it is working\n",
    "df = pd.read_csv(r\"test.csv\").set_index(['ticket_id'])\n",
    "dff = pd.read_csv(\"train.csv\", encoding='mac-roman',engine = 'python').set_index(['ticket_id'])\n",
    "\n",
    "#Now, we have to remove rows, whose compliance values are zero\n",
    "dff.dropna(axis = 0, inplace = True, subset  = ['compliance'])\n",
    "\n",
    "#We have to consider only the rows with country value = 'usa'\n",
    "dff = dff[dff['country']=='USA']\n",
    "\n",
    "#Removing the dates as a part of data preprocessign and avoiding data leakage\n",
    "train = dff[list(df.columns)].drop(['ticket_issued_date','hearing_date'], axis = 1)\n",
    "test = df.drop(['ticket_issued_date','hearing_date'],axis = 1)\n",
    "\n",
    "#forming the training Y_values\n",
    "Y_train = dff['compliance']\n",
    "Y_train = pd.DataFrame(Y_train, index = train.index)\n",
    "\n",
    "#Label encoder is used in data preprocessing to convert the string data in the columns to integers or floats\n",
    "from sklearn.preprocessing import LabelEncoder\n",
    "le = LabelEncoder()\n",
    "\n",
    "#this funciton is for identifying the columns with string valeus and then converting those strings to numerical values using \n",
    "#LabelEncoder()\n",
    "for x in list(train.columns):\n",
    "    le = LabelEncoder()\n",
    "    if train[x].astype(str).str.contains(r'[\\-A-Z]+',flags=re.IGNORECASE, regex = True).any() == True :\n",
    "        train[x] = le.fit_transform(np.array(train[x].values).astype(str))\n",
    "        test[x] = le.fit_transform(np.array(test[x].values).astype(str))\n",
    "\n",
    "#for this quesiton, I am using RandomForestRegressor for finding out the prediciton values\n",
    "from sklearn.ensemble import RandomForestClassifier\n",
    "from sklearn.ensemble import RandomForestRegressor\n",
    "\n",
    "#Here, I am trying out to find the features importances of each feature and select only top 6 features \n",
    "clf = RandomForestRegressor(max_depth = 10, n_estimators = 40).fit(train,Y_train)\n",
    "\n",
    "s = pd.Series(clf.feature_importances_, index = train.columns)\n",
    "s.sort_values(ascending  = False,inplace = True)\n",
    "\n",
    "features = list(s.index[:6])\n",
    "train = train[features]"
   ]
  },
  {
   "cell_type": "code",
   "execution_count": 4,
   "id": "da4d9e8a",
   "metadata": {},
   "outputs": [
    {
     "name": "stderr",
     "output_type": "stream",
     "text": [
      "C:\\Users\\ADMINI~1\\AppData\\Local\\Temp/ipykernel_3996/1339906049.py:38: DataConversionWarning: A column-vector y was passed when a 1d array was expected. Please change the shape of y to (n_samples,), for example using ravel().\n",
      "  clf = RandomForestRegressor(max_depth = 10, n_estimators = 40).fit(train,Y_train)\n",
      "C:\\Users\\Administrator\\anaconda3\\lib\\site-packages\\sklearn\\model_selection\\_validation.py:598: DataConversionWarning: A column-vector y was passed when a 1d array was expected. Please change the shape of y to (n_samples,), for example using ravel().\n",
      "  estimator.fit(X_train, y_train, **fit_params)\n",
      "C:\\Users\\Administrator\\anaconda3\\lib\\site-packages\\sklearn\\model_selection\\_validation.py:598: DataConversionWarning: A column-vector y was passed when a 1d array was expected. Please change the shape of y to (n_samples,), for example using ravel().\n",
      "  estimator.fit(X_train, y_train, **fit_params)\n",
      "C:\\Users\\Administrator\\anaconda3\\lib\\site-packages\\sklearn\\model_selection\\_validation.py:598: DataConversionWarning: A column-vector y was passed when a 1d array was expected. Please change the shape of y to (n_samples,), for example using ravel().\n",
      "  estimator.fit(X_train, y_train, **fit_params)\n",
      "C:\\Users\\Administrator\\anaconda3\\lib\\site-packages\\sklearn\\model_selection\\_validation.py:598: DataConversionWarning: A column-vector y was passed when a 1d array was expected. Please change the shape of y to (n_samples,), for example using ravel().\n",
      "  estimator.fit(X_train, y_train, **fit_params)\n",
      "C:\\Users\\Administrator\\anaconda3\\lib\\site-packages\\sklearn\\model_selection\\_validation.py:598: DataConversionWarning: A column-vector y was passed when a 1d array was expected. Please change the shape of y to (n_samples,), for example using ravel().\n",
      "  estimator.fit(X_train, y_train, **fit_params)\n",
      "C:\\Users\\Administrator\\anaconda3\\lib\\site-packages\\sklearn\\model_selection\\_validation.py:598: DataConversionWarning: A column-vector y was passed when a 1d array was expected. Please change the shape of y to (n_samples,), for example using ravel().\n",
      "  estimator.fit(X_train, y_train, **fit_params)\n",
      "C:\\Users\\Administrator\\anaconda3\\lib\\site-packages\\sklearn\\model_selection\\_validation.py:598: DataConversionWarning: A column-vector y was passed when a 1d array was expected. Please change the shape of y to (n_samples,), for example using ravel().\n",
      "  estimator.fit(X_train, y_train, **fit_params)\n",
      "C:\\Users\\Administrator\\anaconda3\\lib\\site-packages\\sklearn\\model_selection\\_validation.py:598: DataConversionWarning: A column-vector y was passed when a 1d array was expected. Please change the shape of y to (n_samples,), for example using ravel().\n",
      "  estimator.fit(X_train, y_train, **fit_params)\n",
      "C:\\Users\\Administrator\\anaconda3\\lib\\site-packages\\sklearn\\model_selection\\_validation.py:598: DataConversionWarning: A column-vector y was passed when a 1d array was expected. Please change the shape of y to (n_samples,), for example using ravel().\n",
      "  estimator.fit(X_train, y_train, **fit_params)\n",
      "C:\\Users\\Administrator\\anaconda3\\lib\\site-packages\\sklearn\\model_selection\\_validation.py:598: DataConversionWarning: A column-vector y was passed when a 1d array was expected. Please change the shape of y to (n_samples,), for example using ravel().\n",
      "  estimator.fit(X_train, y_train, **fit_params)\n",
      "C:\\Users\\Administrator\\anaconda3\\lib\\site-packages\\sklearn\\model_selection\\_search.py:880: DataConversionWarning: A column-vector y was passed when a 1d array was expected. Please change the shape of y to (n_samples,), for example using ravel().\n",
      "  self.best_estimator_.fit(X, y, **fit_params)\n",
      "C:\\Users\\ADMINI~1\\AppData\\Local\\Temp/ipykernel_3996/1339906049.py:64: DataConversionWarning: A column-vector y was passed when a 1d array was expected. Please change the shape of y to (n_samples,), for example using ravel().\n",
      "  final_clf.fit(train, Y_train)\n"
     ]
    },
    {
     "data": {
      "text/plain": [
       "RandomForestRegressor(max_depth=20)"
      ]
     },
     "execution_count": 4,
     "metadata": {},
     "output_type": "execute_result"
    }
   ],
   "source": [
    "from sklearn.model_selection import train_test_split\n",
    "from sklearn.model_selection import GridSearchCV\n",
    "from sklearn.metrics import roc_auc_score, confusion_matrix\n",
    "\n",
    "#Now, I am splitting the data and using GridSearchCV to to maximize the \n",
    "\n",
    "X_train, X_test, y_train, y_test = train_test_split(train,Y_train, random_state = 0)\n",
    "\n",
    "grid_values = {'max_depth':[20], 'n_estimators':[50,100] }\n",
    "\n",
    "clf = GridSearchCV(RandomForestRegressor(),param_grid = grid_values,scoring = 'roc_auc')\n",
    "\n",
    "clf.fit(X_train, y_train.values.reshape(-1,1))\n",
    "\n",
    "#I selected the best parameters from the gridsearcgcv and trainded the Randomforestregressor using those parameters\n",
    "values = clf.best_params_\n",
    "test = test[features]\n",
    "final_clf = RandomForestRegressor(max_depth = values['max_depth'],n_estimators = values['n_estimators'])\n",
    "final_clf.fit(train, Y_train)"
   ]
  },
  {
   "cell_type": "code",
   "execution_count": 9,
   "id": "a2f77d0f",
   "metadata": {},
   "outputs": [
    {
     "data": {
      "text/plain": [
       "0.9799157419914193"
      ]
     },
     "execution_count": 9,
     "metadata": {},
     "output_type": "execute_result"
    }
   ],
   "source": [
    "roc_auc_score(y_test, y_predict)"
   ]
  },
  {
   "cell_type": "code",
   "execution_count": null,
   "id": "5e4f5bde",
   "metadata": {},
   "outputs": [],
   "source": [
    "#finally, I made a series with values of y_predicted and ticket_id as index values\n",
    "\n",
    "ans = pd.Series(y_scores , index  = test.index.values)\n"
   ]
  }
 ],
 "metadata": {
  "kernelspec": {
   "display_name": "Python 3 (ipykernel)",
   "language": "python",
   "name": "python3"
  },
  "language_info": {
   "codemirror_mode": {
    "name": "ipython",
    "version": 3
   },
   "file_extension": ".py",
   "mimetype": "text/x-python",
   "name": "python",
   "nbconvert_exporter": "python",
   "pygments_lexer": "ipython3",
   "version": "3.9.7"
  }
 },
 "nbformat": 4,
 "nbformat_minor": 5
}
