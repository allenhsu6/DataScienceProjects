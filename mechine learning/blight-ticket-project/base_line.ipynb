{
 "cells": [
  {
   "cell_type": "code",
   "execution_count": 1,
   "id": "1231514b",
   "metadata": {},
   "outputs": [],
   "source": [
    "import pandas as pd\n",
    "import numpy as np\n",
    "import datetime as dt\n",
    "from sklearn.preprocessing import OneHotEncoder, LabelEncoder\n",
    "from sklearn.model_selection import train_test_split\n",
    "from sklearn.linear_model import LogisticRegression\n",
    "from sklearn.naive_bayes import GaussianNB\n",
    "from sklearn.ensemble import GradientBoostingClassifier\n",
    "from sklearn import metrics"
   ]
  },
  {
   "cell_type": "code",
   "execution_count": 2,
   "id": "ec514235",
   "metadata": {},
   "outputs": [
    {
     "name": "stderr",
     "output_type": "stream",
     "text": [
      "C:\\Users\\Administrator\\anaconda3\\lib\\site-packages\\IPython\\core\\interactiveshell.py:3444: DtypeWarning: Columns (11,12,31) have mixed types.Specify dtype option on import or set low_memory=False.\n",
      "  exec(code_obj, self.user_global_ns, self.user_ns)\n"
     ]
    }
   ],
   "source": [
    "# Read data files\n",
    "train_df = pd.read_csv(\"train.csv\", encoding = \"latin1\")\n",
    "test_df = pd.read_csv(\"test.csv\")"
   ]
  },
  {
   "cell_type": "code",
   "execution_count": 3,
   "id": "fefa6672",
   "metadata": {},
   "outputs": [],
   "source": [
    "# Select only common columns from both train and test df\n",
    "common_col = list(set(train_df.columns).intersection(set(test_df.columns)))\n",
    "common_col.append('compliance')\n",
    "train_df = train_df[common_col] # We have 28 cols for train and 27 cols for test\n",
    "train_df = train_df[train_df['compliance'].notnull()]"
   ]
  },
  {
   "cell_type": "code",
   "execution_count": 4,
   "id": "22048628",
   "metadata": {},
   "outputs": [],
   "source": [
    "# Select only USA country\n",
    "train_df = train_df[train_df['country'] == 'USA']\n",
    "test_df = test_df[test_df['country'] == 'USA']"
   ]
  },
  {
   "cell_type": "code",
   "execution_count": 5,
   "id": "c489ea36",
   "metadata": {},
   "outputs": [],
   "source": [
    "# Drop unnecessary columns\n",
    "drop_col = ['ticket_id', 'admin_fee', 'state_fee', 'violation_zip_code', \n",
    "            'mailing_address_str_number', 'mailing_address_str_name', 'inspector_name',\n",
    "           'zip_code', 'violation_code', 'violator_name', 'violation_street_name', 'violation_street_number', 'city',\n",
    "           'violation_description', 'grafitti_status', 'non_us_str_code', 'judgment_amount',\n",
    "            'country', 'ticket_issued_date', 'hearing_date', 'disposition', 'clean_up_cost']\n",
    "train_df = train_df.drop(drop_col, axis = 1)\n",
    "test_id = test_df['ticket_id']\n",
    "test_df = test_df.drop(drop_col, axis = 1)"
   ]
  },
  {
   "cell_type": "code",
   "execution_count": 11,
   "id": "9666d325",
   "metadata": {},
   "outputs": [
    {
     "data": {
      "text/plain": [
       "discount_amount     float64\n",
       "agency_name        category\n",
       "fine_amount         float64\n",
       "late_fee            float64\n",
       "state                object\n",
       "compliance            int32\n",
       "dtype: object"
      ]
     },
     "execution_count": 11,
     "metadata": {},
     "output_type": "execute_result"
    }
   ],
   "source": [
    "train_df.dtypes"
   ]
  },
  {
   "cell_type": "code",
   "execution_count": 10,
   "id": "866b3611",
   "metadata": {},
   "outputs": [],
   "source": [
    "# Determine data types\n",
    "train_df['discount_amount'] = train_df['discount_amount'].astype(float)\n",
    "train_df['fine_amount'] = train_df['fine_amount'].astype(float)\n",
    "train_df['late_fee'] = train_df['late_fee'].astype(float)\n",
    "train_df['compliance'] = train_df['compliance'].astype(int)\n",
    "train_df['agency_name'] = train_df['agency_name'].astype('category')\n",
    "\n",
    "test_df['discount_amount'] = test_df['discount_amount'].astype(float)\n",
    "test_df['fine_amount'] = test_df['fine_amount'].astype(float)\n",
    "test_df['late_fee'] = test_df['late_fee'].astype(float)\n",
    "test_df['agency_name'] = test_df['agency_name'].astype('category')"
   ]
  },
  {
   "cell_type": "code",
   "execution_count": 12,
   "id": "6305b383",
   "metadata": {},
   "outputs": [],
   "source": [
    "#Encode agency names\n",
    "le = LabelEncoder().fit(train_df['agency_name'])\n",
    "train_transformed = le.transform(train_df['agency_name'])\n",
    "test_transformed = le.transform(test_df['agency_name'])\n",
    "# 先labelEncoder 然后再onehot\n",
    "ohe = OneHotEncoder().fit(np.array(train_transformed).reshape(-1, 1))\n",
    "train_ohe = ohe.transform(np.array(train_transformed).reshape(-1, 1))\n",
    "test_ohe = ohe.transform(np.array(test_transformed).reshape(-1, 1))\n",
    "train_ohe_df = pd.DataFrame(train_ohe.toarray())\n",
    "test_ohe_df = pd.DataFrame(test_ohe.toarray())"
   ]
  },
  {
   "cell_type": "code",
   "execution_count": 14,
   "id": "8f3147bb",
   "metadata": {},
   "outputs": [
    {
     "data": {
      "text/html": [
       "<div>\n",
       "<style scoped>\n",
       "    .dataframe tbody tr th:only-of-type {\n",
       "        vertical-align: middle;\n",
       "    }\n",
       "\n",
       "    .dataframe tbody tr th {\n",
       "        vertical-align: top;\n",
       "    }\n",
       "\n",
       "    .dataframe thead th {\n",
       "        text-align: right;\n",
       "    }\n",
       "</style>\n",
       "<table border=\"1\" class=\"dataframe\">\n",
       "  <thead>\n",
       "    <tr style=\"text-align: right;\">\n",
       "      <th></th>\n",
       "      <th>0</th>\n",
       "      <th>1</th>\n",
       "      <th>2</th>\n",
       "      <th>3</th>\n",
       "      <th>4</th>\n",
       "    </tr>\n",
       "  </thead>\n",
       "  <tbody>\n",
       "    <tr>\n",
       "      <th>0</th>\n",
       "      <td>0.0</td>\n",
       "      <td>1.0</td>\n",
       "      <td>0.0</td>\n",
       "      <td>0.0</td>\n",
       "      <td>0.0</td>\n",
       "    </tr>\n",
       "    <tr>\n",
       "      <th>1</th>\n",
       "      <td>0.0</td>\n",
       "      <td>1.0</td>\n",
       "      <td>0.0</td>\n",
       "      <td>0.0</td>\n",
       "      <td>0.0</td>\n",
       "    </tr>\n",
       "    <tr>\n",
       "      <th>2</th>\n",
       "      <td>0.0</td>\n",
       "      <td>1.0</td>\n",
       "      <td>0.0</td>\n",
       "      <td>0.0</td>\n",
       "      <td>0.0</td>\n",
       "    </tr>\n",
       "    <tr>\n",
       "      <th>3</th>\n",
       "      <td>0.0</td>\n",
       "      <td>1.0</td>\n",
       "      <td>0.0</td>\n",
       "      <td>0.0</td>\n",
       "      <td>0.0</td>\n",
       "    </tr>\n",
       "    <tr>\n",
       "      <th>4</th>\n",
       "      <td>0.0</td>\n",
       "      <td>1.0</td>\n",
       "      <td>0.0</td>\n",
       "      <td>0.0</td>\n",
       "      <td>0.0</td>\n",
       "    </tr>\n",
       "  </tbody>\n",
       "</table>\n",
       "</div>"
      ],
      "text/plain": [
       "     0    1    2    3    4\n",
       "0  0.0  1.0  0.0  0.0  0.0\n",
       "1  0.0  1.0  0.0  0.0  0.0\n",
       "2  0.0  1.0  0.0  0.0  0.0\n",
       "3  0.0  1.0  0.0  0.0  0.0\n",
       "4  0.0  1.0  0.0  0.0  0.0"
      ]
     },
     "execution_count": 14,
     "metadata": {},
     "output_type": "execute_result"
    }
   ],
   "source": [
    "test_ohe_df.head()"
   ]
  },
  {
   "cell_type": "code",
   "execution_count": 19,
   "id": "fd1c2dbf",
   "metadata": {},
   "outputs": [
    {
     "data": {
      "text/plain": [
       "59"
      ]
     },
     "execution_count": 19,
     "metadata": {},
     "output_type": "execute_result"
    }
   ],
   "source": [
    "len(train_df['state'].unique())"
   ]
  },
  {
   "cell_type": "code",
   "execution_count": 17,
   "id": "01373e19",
   "metadata": {},
   "outputs": [],
   "source": [
    "#Encode states\n",
    "train_df['state'].fillna('N/A', inplace = True)\n",
    "test_df['state'].fillna('N/A', inplace = True)\n",
    "le2 = LabelEncoder().fit(train_df['state'])\n",
    "train_transformed2 = le2.transform(train_df['state'])\n",
    "test_transformed2 = le2.transform(test_df['state'])\n",
    "\n",
    "ohe2 = OneHotEncoder().fit(np.array(train_transformed2).reshape(-1, 1))\n",
    "train_ohe2 = ohe2.transform(np.array(train_transformed2).reshape(-1, 1))\n",
    "test_ohe2 = ohe2.transform(np.array(test_transformed2).reshape(-1, 1))\n",
    "train_ohe_df2 = pd.DataFrame(train_ohe2.toarray())\n",
    "test_ohe_df2 = pd.DataFrame(test_ohe2.toarray())"
   ]
  },
  {
   "cell_type": "code",
   "execution_count": 18,
   "id": "b7cfa77b",
   "metadata": {},
   "outputs": [
    {
     "data": {
      "text/html": [
       "<div>\n",
       "<style scoped>\n",
       "    .dataframe tbody tr th:only-of-type {\n",
       "        vertical-align: middle;\n",
       "    }\n",
       "\n",
       "    .dataframe tbody tr th {\n",
       "        vertical-align: top;\n",
       "    }\n",
       "\n",
       "    .dataframe thead th {\n",
       "        text-align: right;\n",
       "    }\n",
       "</style>\n",
       "<table border=\"1\" class=\"dataframe\">\n",
       "  <thead>\n",
       "    <tr style=\"text-align: right;\">\n",
       "      <th></th>\n",
       "      <th>0</th>\n",
       "      <th>1</th>\n",
       "      <th>2</th>\n",
       "      <th>3</th>\n",
       "      <th>4</th>\n",
       "      <th>5</th>\n",
       "      <th>6</th>\n",
       "      <th>7</th>\n",
       "      <th>8</th>\n",
       "      <th>9</th>\n",
       "      <th>...</th>\n",
       "      <th>49</th>\n",
       "      <th>50</th>\n",
       "      <th>51</th>\n",
       "      <th>52</th>\n",
       "      <th>53</th>\n",
       "      <th>54</th>\n",
       "      <th>55</th>\n",
       "      <th>56</th>\n",
       "      <th>57</th>\n",
       "      <th>58</th>\n",
       "    </tr>\n",
       "  </thead>\n",
       "  <tbody>\n",
       "    <tr>\n",
       "      <th>0</th>\n",
       "      <td>0.0</td>\n",
       "      <td>0.0</td>\n",
       "      <td>0.0</td>\n",
       "      <td>0.0</td>\n",
       "      <td>0.0</td>\n",
       "      <td>0.0</td>\n",
       "      <td>0.0</td>\n",
       "      <td>0.0</td>\n",
       "      <td>0.0</td>\n",
       "      <td>0.0</td>\n",
       "      <td>...</td>\n",
       "      <td>0.0</td>\n",
       "      <td>0.0</td>\n",
       "      <td>0.0</td>\n",
       "      <td>0.0</td>\n",
       "      <td>0.0</td>\n",
       "      <td>0.0</td>\n",
       "      <td>0.0</td>\n",
       "      <td>0.0</td>\n",
       "      <td>0.0</td>\n",
       "      <td>0.0</td>\n",
       "    </tr>\n",
       "    <tr>\n",
       "      <th>1</th>\n",
       "      <td>0.0</td>\n",
       "      <td>0.0</td>\n",
       "      <td>0.0</td>\n",
       "      <td>0.0</td>\n",
       "      <td>0.0</td>\n",
       "      <td>0.0</td>\n",
       "      <td>0.0</td>\n",
       "      <td>0.0</td>\n",
       "      <td>0.0</td>\n",
       "      <td>0.0</td>\n",
       "      <td>...</td>\n",
       "      <td>0.0</td>\n",
       "      <td>0.0</td>\n",
       "      <td>0.0</td>\n",
       "      <td>0.0</td>\n",
       "      <td>0.0</td>\n",
       "      <td>0.0</td>\n",
       "      <td>0.0</td>\n",
       "      <td>0.0</td>\n",
       "      <td>0.0</td>\n",
       "      <td>0.0</td>\n",
       "    </tr>\n",
       "    <tr>\n",
       "      <th>2</th>\n",
       "      <td>0.0</td>\n",
       "      <td>0.0</td>\n",
       "      <td>0.0</td>\n",
       "      <td>0.0</td>\n",
       "      <td>0.0</td>\n",
       "      <td>1.0</td>\n",
       "      <td>0.0</td>\n",
       "      <td>0.0</td>\n",
       "      <td>0.0</td>\n",
       "      <td>0.0</td>\n",
       "      <td>...</td>\n",
       "      <td>0.0</td>\n",
       "      <td>0.0</td>\n",
       "      <td>0.0</td>\n",
       "      <td>0.0</td>\n",
       "      <td>0.0</td>\n",
       "      <td>0.0</td>\n",
       "      <td>0.0</td>\n",
       "      <td>0.0</td>\n",
       "      <td>0.0</td>\n",
       "      <td>0.0</td>\n",
       "    </tr>\n",
       "    <tr>\n",
       "      <th>3</th>\n",
       "      <td>0.0</td>\n",
       "      <td>0.0</td>\n",
       "      <td>0.0</td>\n",
       "      <td>0.0</td>\n",
       "      <td>0.0</td>\n",
       "      <td>0.0</td>\n",
       "      <td>0.0</td>\n",
       "      <td>0.0</td>\n",
       "      <td>0.0</td>\n",
       "      <td>0.0</td>\n",
       "      <td>...</td>\n",
       "      <td>0.0</td>\n",
       "      <td>0.0</td>\n",
       "      <td>0.0</td>\n",
       "      <td>0.0</td>\n",
       "      <td>0.0</td>\n",
       "      <td>0.0</td>\n",
       "      <td>0.0</td>\n",
       "      <td>0.0</td>\n",
       "      <td>0.0</td>\n",
       "      <td>0.0</td>\n",
       "    </tr>\n",
       "    <tr>\n",
       "      <th>4</th>\n",
       "      <td>0.0</td>\n",
       "      <td>0.0</td>\n",
       "      <td>0.0</td>\n",
       "      <td>0.0</td>\n",
       "      <td>0.0</td>\n",
       "      <td>0.0</td>\n",
       "      <td>0.0</td>\n",
       "      <td>0.0</td>\n",
       "      <td>0.0</td>\n",
       "      <td>0.0</td>\n",
       "      <td>...</td>\n",
       "      <td>0.0</td>\n",
       "      <td>0.0</td>\n",
       "      <td>0.0</td>\n",
       "      <td>0.0</td>\n",
       "      <td>0.0</td>\n",
       "      <td>0.0</td>\n",
       "      <td>0.0</td>\n",
       "      <td>0.0</td>\n",
       "      <td>0.0</td>\n",
       "      <td>0.0</td>\n",
       "    </tr>\n",
       "  </tbody>\n",
       "</table>\n",
       "<p>5 rows × 59 columns</p>\n",
       "</div>"
      ],
      "text/plain": [
       "    0    1    2    3    4    5    6    7    8    9   ...   49   50   51   52  \\\n",
       "0  0.0  0.0  0.0  0.0  0.0  0.0  0.0  0.0  0.0  0.0  ...  0.0  0.0  0.0  0.0   \n",
       "1  0.0  0.0  0.0  0.0  0.0  0.0  0.0  0.0  0.0  0.0  ...  0.0  0.0  0.0  0.0   \n",
       "2  0.0  0.0  0.0  0.0  0.0  1.0  0.0  0.0  0.0  0.0  ...  0.0  0.0  0.0  0.0   \n",
       "3  0.0  0.0  0.0  0.0  0.0  0.0  0.0  0.0  0.0  0.0  ...  0.0  0.0  0.0  0.0   \n",
       "4  0.0  0.0  0.0  0.0  0.0  0.0  0.0  0.0  0.0  0.0  ...  0.0  0.0  0.0  0.0   \n",
       "\n",
       "    53   54   55   56   57   58  \n",
       "0  0.0  0.0  0.0  0.0  0.0  0.0  \n",
       "1  0.0  0.0  0.0  0.0  0.0  0.0  \n",
       "2  0.0  0.0  0.0  0.0  0.0  0.0  \n",
       "3  0.0  0.0  0.0  0.0  0.0  0.0  \n",
       "4  0.0  0.0  0.0  0.0  0.0  0.0  \n",
       "\n",
       "[5 rows x 59 columns]"
      ]
     },
     "execution_count": 18,
     "metadata": {},
     "output_type": "execute_result"
    }
   ],
   "source": [
    "train_ohe_df2.head()"
   ]
  },
  {
   "cell_type": "code",
   "execution_count": 20,
   "id": "b502b47e",
   "metadata": {},
   "outputs": [],
   "source": [
    "# Merge dataframes\n",
    "train_df.reset_index(drop=True, inplace=True)\n",
    "test_df.reset_index(drop=True, inplace=True)\n",
    "train_df_cleaned = pd.concat([train_df, train_ohe_df, train_ohe_df2], axis = 1)\n",
    "test_df_cleaned = pd.concat([test_df, test_ohe_df, test_ohe_df2], axis = 1)"
   ]
  },
  {
   "cell_type": "code",
   "execution_count": 28,
   "id": "2a8bd614",
   "metadata": {},
   "outputs": [
    {
     "data": {
      "text/plain": [
       "array([  20. ,  100. ,   10. ,    5. ,    0. ,   50. ,   25. ,  250. ,\n",
       "         12.5,   75. ,    2.5,  150. ,   30. ,   28. ,  400. ,   37.5,\n",
       "        200. ,   35. ,   40. ,  175. ,   29. ,  300. ,  145. ,   37. ,\n",
       "        500. ,  125. ,   15. ,   67. ,    2. ,   45. ,    7.5,   13. ,\n",
       "       1000. ,   65. ,  350. ,  120. ,   80. ,   70. ,   57.5,   60. ,\n",
       "          6. ,   22. ,   32. ,    7. ])"
      ]
     },
     "execution_count": 28,
     "metadata": {},
     "output_type": "execute_result"
    }
   ],
   "source": [
    "test_df.late_fee.unique()"
   ]
  },
  {
   "cell_type": "code",
   "execution_count": 23,
   "id": "7f32cab3",
   "metadata": {},
   "outputs": [],
   "source": [
    "# Feature engineering\n",
    "train_df_cleaned['discount'] = train_df_cleaned.apply(lambda x: int(x['discount_amount'] > 0), axis = 1)\n",
    "train_df_cleaned['late'] = train_df_cleaned.apply(lambda x: int(x['late_fee'] > 0), axis = 1)\n",
    "test_df_cleaned['discount'] = test_df_cleaned.apply(lambda x: int(x['discount_amount'] > 0), axis = 1)\n",
    "test_df_cleaned['late'] = test_df_cleaned.apply(lambda x: int(x['late_fee'] > 0), axis = 1)   \n",
    "train_df_cleaned = train_df_cleaned.drop(['agency_name', 'state', 'late_fee', 'discount_amount'], axis = 1)\n",
    "test_df_cleaned = test_df_cleaned.drop(['agency_name', 'state', 'late_fee', 'discount_amount'], axis = 1)"
   ]
  },
  {
   "cell_type": "code",
   "execution_count": 29,
   "id": "dd8df1bf",
   "metadata": {},
   "outputs": [],
   "source": [
    "# Split into train, test\n",
    "y = train_df_cleaned['compliance']\n",
    "X = train_df_cleaned.drop(['compliance'], axis = 1)\n",
    "X_train, X_test, y_train, y_test = train_test_split(X, y, test_size=0.2, random_state=0)"
   ]
  },
  {
   "cell_type": "code",
   "execution_count": 30,
   "id": "0433fe97",
   "metadata": {},
   "outputs": [],
   "source": [
    "# Run logistic regression and make predictions\n",
    "gbc = GradientBoostingClassifier(random_state=0).fit(X_train, y_train)\n",
    "gbc_train = gbc.predict_proba(X_train)\n",
    "gbc_test = gbc.predict_proba(X_test)   "
   ]
  },
  {
   "cell_type": "code",
   "execution_count": null,
   "id": "f50fff0c",
   "metadata": {},
   "outputs": [],
   "source": [
    "#train_fpr, train_tpr, _ = metrics.roc_curve(y_train.reshape(-1, 1), gbc_train[:, 1])\n",
    "#test_fpr, test_tpr, _ = metrics.roc_curve(y_test.reshape(-1, 1), gbc_test[:, 1])\n",
    "#train_score, test_score = metrics.auc(train_fpr, train_tpr), metrics.auc(test_fpr, test_tpr)\n",
    "\n",
    "# Generate predictions\n",
    "gbc_result = gbc.predict_proba(test_df_cleaned)[:, 1]"
   ]
  }
 ],
 "metadata": {
  "kernelspec": {
   "display_name": "Python 3 (ipykernel)",
   "language": "python",
   "name": "python3"
  },
  "language_info": {
   "codemirror_mode": {
    "name": "ipython",
    "version": 3
   },
   "file_extension": ".py",
   "mimetype": "text/x-python",
   "name": "python",
   "nbconvert_exporter": "python",
   "pygments_lexer": "ipython3",
   "version": "3.9.7"
  }
 },
 "nbformat": 4,
 "nbformat_minor": 5
}
